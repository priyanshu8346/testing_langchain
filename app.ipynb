{
 "cells": [
  {
   "cell_type": "code",
   "execution_count": 5,
   "id": "7570b897",
   "metadata": {},
   "outputs": [],
   "source": [
    "import os\n",
    "from dotenv import load_dotenv\n",
    "load_dotenv() # Load environment variables from .env file\n",
    "\n",
    "groq_api_key = os.getenv('GROQ_API_KEY')\n",
    "\n"
   ]
  },
  {
   "cell_type": "code",
   "execution_count": 6,
   "id": "f8bd06b5",
   "metadata": {},
   "outputs": [
    {
     "data": {
      "text/plain": [
       "ChatGroq(client=<groq.resources.chat.completions.Completions object at 0x10a512dd0>, async_client=<groq.resources.chat.completions.AsyncCompletions object at 0x10a510910>, model_name='Gemma2-9b-It', model_kwargs={}, groq_api_key=SecretStr('**********'))"
      ]
     },
     "execution_count": 6,
     "metadata": {},
     "output_type": "execute_result"
    }
   ],
   "source": [
    "from langchain_groq import ChatGroq\n",
    "model = ChatGroq(\n",
    "    model=\"Gemma2-9b-It\",\n",
    "    api_key=groq_api_key)\n",
    "model"
   ]
  },
  {
   "cell_type": "code",
   "execution_count": 12,
   "id": "4dc167e0",
   "metadata": {},
   "outputs": [
    {
     "data": {
      "text/plain": [
       "AIMessage(content=\"Hi Priyanshu, it's nice to meet you!  \\n\\nBeing a software engineer is awesome. What kind of software do you enjoy working with?  \\n\\nDo you have any cool projects you're working on right now?\\n\", additional_kwargs={}, response_metadata={'token_usage': {'completion_tokens': 51, 'prompt_tokens': 22, 'total_tokens': 73, 'completion_time': 0.092727273, 'prompt_time': 0.002199348, 'queue_time': 0.258382993, 'total_time': 0.094926621}, 'model_name': 'Gemma2-9b-It', 'system_fingerprint': 'fp_10c08bf97d', 'service_tier': 'on_demand', 'finish_reason': 'stop', 'logprobs': None}, id='run--408cac1c-14ac-412e-b12f-9cbd80692917-0', usage_metadata={'input_tokens': 22, 'output_tokens': 51, 'total_tokens': 73})"
      ]
     },
     "execution_count": 12,
     "metadata": {},
     "output_type": "execute_result"
    }
   ],
   "source": [
    "from langchain_core.messages import HumanMessage\n",
    "model.invoke([HumanMessage(content=\"Hi i am Priyanshu and i am a software engineer.\")])"
   ]
  },
  {
   "cell_type": "code",
   "execution_count": 13,
   "id": "3e9494f8",
   "metadata": {},
   "outputs": [
    {
     "data": {
      "text/plain": [
       "AIMessage(content=\"You are Priyanshu, and you are a software engineer!  😊 \\n\\nIs there anything else you'd like to tell me about yourself or anything you'd like to chat about? I'm here to listen and help in any way I can.  \\n\", additional_kwargs={}, response_metadata={'token_usage': {'completion_tokens': 58, 'prompt_tokens': 92, 'total_tokens': 150, 'completion_time': 0.105454545, 'prompt_time': 0.004254537, 'queue_time': 0.26901717399999997, 'total_time': 0.109709082}, 'model_name': 'Gemma2-9b-It', 'system_fingerprint': 'fp_10c08bf97d', 'service_tier': 'on_demand', 'finish_reason': 'stop', 'logprobs': None}, id='run--f5c84106-731d-4c3f-8c85-2df55acc183a-0', usage_metadata={'input_tokens': 92, 'output_tokens': 58, 'total_tokens': 150})"
      ]
     },
     "execution_count": 13,
     "metadata": {},
     "output_type": "execute_result"
    }
   ],
   "source": [
    "from langchain_core.messages import AIMessage\n",
    "model.invoke([\n",
    "    HumanMessage(content=\"Hi i am Priyanshu and i am a software engineer.\"),\n",
    "    AIMessage(content=\"Hi Priyanshu, it's nice to meet you!  \\n\\nBeing a software engineer is awesome. What kind of software do you enjoy working with?  \\n\\nDo you have any cool projects you're working on right now?\\n\"),\n",
    "    HumanMessage(content=\"Hey what is my name and what do i do?\")\n",
    "])"
   ]
  },
  {
   "cell_type": "code",
   "execution_count": 17,
   "id": "fdcac7fe",
   "metadata": {},
   "outputs": [],
   "source": [
    "### Message History\n",
    "from langchain_community.chat_message_histories import ChatMessageHistory\n",
    "from langchain_core.chat_history import BaseChatMessageHistory\n",
    "from langchain_core.runnables.history import RunnableWithMessageHistory\n",
    "\n",
    "store = {}\n",
    "\n",
    "def get_session_history(session_id: str)-> BaseChatMessageHistory:\n",
    "    if session_id not in store:\n",
    "        store[session_id] = ChatMessageHistory(session_id=session_id)\n",
    "    return store[session_id]\n",
    "\n",
    "with_message_history = RunnableWithMessageHistory(model, get_session_history)"
   ]
  },
  {
   "cell_type": "code",
   "execution_count": 18,
   "id": "acd7c8b0",
   "metadata": {},
   "outputs": [
    {
     "data": {
      "text/plain": [
       "AIMessage(content=\"Hello Priyanshu, it's nice to meet you! 👋\\n\\nThat's great that you're a software engineer. What kind of software engineering do you specialize in?  \\n\\nI'm always eager to learn more about different fields. 😊  \\n\\n\", additional_kwargs={}, response_metadata={'token_usage': {'completion_tokens': 57, 'prompt_tokens': 22, 'total_tokens': 79, 'completion_time': 0.103636364, 'prompt_time': 0.002122768, 'queue_time': 0.259803679, 'total_time': 0.105759132}, 'model_name': 'Gemma2-9b-It', 'system_fingerprint': 'fp_10c08bf97d', 'service_tier': 'on_demand', 'finish_reason': 'stop', 'logprobs': None}, id='run--0a520c35-9ca6-4964-9a27-4a07b989f239-0', usage_metadata={'input_tokens': 22, 'output_tokens': 57, 'total_tokens': 79})"
      ]
     },
     "execution_count": 18,
     "metadata": {},
     "output_type": "execute_result"
    }
   ],
   "source": [
    "config={\n",
    "    \"configurable\": {\"session_id\": \"chat1\"},\n",
    "}\n",
    "\n",
    "with_message_history.invoke([HumanMessage(content=\"Hi i am Priyanshu and i am a software engineer.\")], config=config)"
   ]
  },
  {
   "cell_type": "code",
   "execution_count": 19,
   "id": "aff541d1",
   "metadata": {},
   "outputs": [
    {
     "data": {
      "text/plain": [
       "AIMessage(content=\"You said your name is Priyanshu, and that you are a software engineer. 😊 \\n\\nIs there anything else you'd like to tell me about yourself, or would you like to ask me something else?  I'm here to help!  \\n\", additional_kwargs={}, response_metadata={'token_usage': {'completion_tokens': 56, 'prompt_tokens': 97, 'total_tokens': 153, 'completion_time': 0.101818182, 'prompt_time': 0.006731055, 'queue_time': 0.261520235, 'total_time': 0.108549237}, 'model_name': 'Gemma2-9b-It', 'system_fingerprint': 'fp_10c08bf97d', 'service_tier': 'on_demand', 'finish_reason': 'stop', 'logprobs': None}, id='run--166f3eb2-2568-444d-9bc1-623821c2e167-0', usage_metadata={'input_tokens': 97, 'output_tokens': 56, 'total_tokens': 153})"
      ]
     },
     "execution_count": 19,
     "metadata": {},
     "output_type": "execute_result"
    }
   ],
   "source": [
    "config2={\n",
    "    \"configurable\": {\"session_id\": \"chat2\"},\n",
    "}\n",
    "with_message_history.invoke([HumanMessage(content=\"Hi what is my name and what do i do?\")], config=config)\n"
   ]
  },
  {
   "cell_type": "code",
   "execution_count": null,
   "id": "37402d50",
   "metadata": {},
   "outputs": [
    {
     "data": {
      "text/plain": [
       "AIMessage(content=\"As an AI, I don't have access to any personal information about you, including your name or what you do.  \\n\\nIs there anything else I can help you with?\\n\", additional_kwargs={}, response_metadata={'token_usage': {'completion_tokens': 40, 'prompt_tokens': 20, 'total_tokens': 60, 'completion_time': 0.072727273, 'prompt_time': 0.001901348, 'queue_time': 0.25874686199999997, 'total_time': 0.074628621}, 'model_name': 'Gemma2-9b-It', 'system_fingerprint': 'fp_10c08bf97d', 'service_tier': 'on_demand', 'finish_reason': 'stop', 'logprobs': None}, id='run--8b7c54af-726f-40e6-b897-b6de0a7f5fbc-0', usage_metadata={'input_tokens': 20, 'output_tokens': 40, 'total_tokens': 60})"
      ]
     },
     "execution_count": 20,
     "metadata": {},
     "output_type": "execute_result"
    }
   ],
   "source": [
    "# config is changed so as session id and history now it do not remember previous messages \n",
    "with_message_history.invoke([HumanMessage(content=\"Hi what is my name and what do i do?\")], config=config2)\n"
   ]
  },
  {
   "cell_type": "code",
   "execution_count": 21,
   "id": "448547ba",
   "metadata": {},
   "outputs": [],
   "source": [
    "from langchain_core.prompts import ChatPromptTemplate, MessagesPlaceholder\n",
    "prompt = ChatPromptTemplate.from_messages([\n",
    "    (\"system\", \"You are a helpful assistant. Help in answering the question based on the conversation history.\"),\n",
    "    MessagesPlaceholder(variable_name=\"history\")])\n",
    "\n",
    "chain = prompt | model"
   ]
  },
  {
   "cell_type": "code",
   "execution_count": 22,
   "id": "c3248b24",
   "metadata": {},
   "outputs": [
    {
     "data": {
      "text/plain": [
       "AIMessage(content=\"Hello Priyanshu! It's nice to meet you.  \\n\\nI'm ready to help. What can I do for you today? \\n\\nSince you're a software engineer, are you working on any particular projects you'd like to discuss? Or perhaps you have a technical question you need help with? 😊  \\n\\n\", additional_kwargs={}, response_metadata={'token_usage': {'completion_tokens': 72, 'prompt_tokens': 39, 'total_tokens': 111, 'completion_time': 0.130909091, 'prompt_time': 0.0023225, 'queue_time': 0.261007676, 'total_time': 0.133231591}, 'model_name': 'Gemma2-9b-It', 'system_fingerprint': 'fp_10c08bf97d', 'service_tier': 'on_demand', 'finish_reason': 'stop', 'logprobs': None}, id='run--7ba7bce7-5554-4a3b-a4eb-892d79bec6c1-0', usage_metadata={'input_tokens': 39, 'output_tokens': 72, 'total_tokens': 111})"
      ]
     },
     "execution_count": 22,
     "metadata": {},
     "output_type": "execute_result"
    }
   ],
   "source": [
    "chain.invoke({\"history\": [HumanMessage(content=\"Hi i am Priyanshu and i am a software engineer.\")]})\n"
   ]
  },
  {
   "cell_type": "code",
   "execution_count": 23,
   "id": "b65f11e6",
   "metadata": {},
   "outputs": [],
   "source": [
    "config3={\n",
    "    \"configurable\": {\"session_id\": \"chat3\"},\n",
    "}"
   ]
  },
  {
   "cell_type": "code",
   "execution_count": 24,
   "id": "ef219348",
   "metadata": {},
   "outputs": [
    {
     "data": {
      "text/plain": [
       "AIMessage(content=\"Hello Priyanshu,\\n\\nIt's nice to meet you! That's great that you're a software engineer. What kind of software engineering do you specialize in?  \\n\\nI'm always interested in learning more about different areas of technology.\\n\", additional_kwargs={}, response_metadata={'token_usage': {'completion_tokens': 55, 'prompt_tokens': 22, 'total_tokens': 77, 'completion_time': 0.1, 'prompt_time': 0.002137069, 'queue_time': 0.261029208, 'total_time': 0.102137069}, 'model_name': 'Gemma2-9b-It', 'system_fingerprint': 'fp_10c08bf97d', 'service_tier': 'on_demand', 'finish_reason': 'stop', 'logprobs': None}, id='run--3e7a3197-513e-4b25-9341-e20276b7a91d-0', usage_metadata={'input_tokens': 22, 'output_tokens': 55, 'total_tokens': 77})"
      ]
     },
     "execution_count": 24,
     "metadata": {},
     "output_type": "execute_result"
    }
   ],
   "source": [
    "with_message_history.invoke([HumanMessage(content=\"Hi i am Priyanshu and i am a software engineer.\")], config=config3)"
   ]
  },
  {
   "cell_type": "code",
   "execution_count": 25,
   "id": "fd84f012",
   "metadata": {},
   "outputs": [],
   "source": [
    "from langchain_core.prompts import ChatPromptTemplate, MessagesPlaceholder\n",
    "prompt = ChatPromptTemplate.from_messages([\n",
    "    (\"system\", \"You are a helpful assistant. Help in answering the question in {language}.\"),\n",
    "    MessagesPlaceholder(variable_name=\"history\")])\n",
    "\n",
    "chain = prompt | model"
   ]
  },
  {
   "cell_type": "code",
   "execution_count": 26,
   "id": "b5813db9",
   "metadata": {},
   "outputs": [
    {
     "data": {
      "text/plain": [
       "AIMessage(content='नमस्ते! \\n\\nमुझे माफ़ करना, लेकिन मैं तुम्हारे नाम या तुम्हारी पेशे के बारे में कुछ नहीं जानता। मैं एक बड़ा भाषा मॉडल हूँ, और मेरे पास व्यक्तिगत जानकारी तक पहुँच नहीं है। \\n\\nक्या तुम्हें कोई और सवाल पूछना है?\\n\\n', additional_kwargs={}, response_metadata={'token_usage': {'completion_tokens': 81, 'prompt_tokens': 34, 'total_tokens': 115, 'completion_time': 0.147272727, 'prompt_time': 0.003376968, 'queue_time': 0.27014876000000004, 'total_time': 0.150649695}, 'model_name': 'Gemma2-9b-It', 'system_fingerprint': 'fp_10c08bf97d', 'service_tier': 'on_demand', 'finish_reason': 'stop', 'logprobs': None}, id='run--dc4aa126-a5c3-44c1-9fc0-4ab0faf93409-0', usage_metadata={'input_tokens': 34, 'output_tokens': 81, 'total_tokens': 115})"
      ]
     },
     "execution_count": 26,
     "metadata": {},
     "output_type": "execute_result"
    }
   ],
   "source": [
    "chain.invoke({\"history\": [HumanMessage(content=\"Hi what is my name and what do i do?\")], \"language\": \"Hindi\"})"
   ]
  },
  {
   "cell_type": "code",
   "execution_count": 31,
   "id": "fe596ade",
   "metadata": {},
   "outputs": [
    {
     "data": {
      "text/plain": [
       "AIMessage(content='Namaste Priyanshu! \\n\\nआपका नाम Priyanshu है और आप एक सॉफ्टवेयर इंजीनियर हैं।  \\n', additional_kwargs={}, response_metadata={'token_usage': {'completion_tokens': 34, 'prompt_tokens': 204, 'total_tokens': 238, 'completion_time': 0.061818182, 'prompt_time': 0.010080351, 'queue_time': 0.258371803, 'total_time': 0.071898533}, 'model_name': 'Gemma2-9b-It', 'system_fingerprint': 'fp_10c08bf97d', 'service_tier': 'on_demand', 'finish_reason': 'stop', 'logprobs': None}, id='run--19ecbc29-532f-43e1-814a-ac4f3e682d22-0', usage_metadata={'input_tokens': 204, 'output_tokens': 34, 'total_tokens': 238})"
      ]
     },
     "execution_count": 31,
     "metadata": {},
     "output_type": "execute_result"
    }
   ],
   "source": [
    "with_message_history = RunnableWithMessageHistory( chain, get_session_history, input_messages_key=\"history\")\n",
    "with_message_history.invoke({\"history\": [HumanMessage(content=\"Hi what is my name and what do i do?\")], \"language\": \"Hindi\"}, config=config3)"
   ]
  },
  {
   "cell_type": "code",
   "execution_count": null,
   "id": "5e5dcfec",
   "metadata": {},
   "outputs": [],
   "source": []
  },
  {
   "cell_type": "code",
   "execution_count": null,
   "id": "e0364ae4",
   "metadata": {},
   "outputs": [],
   "source": []
  },
  {
   "cell_type": "code",
   "execution_count": null,
   "id": "ef206699",
   "metadata": {},
   "outputs": [],
   "source": []
  }
 ],
 "metadata": {
  "kernelspec": {
   "display_name": "practice",
   "language": "python",
   "name": "python3"
  },
  "language_info": {
   "codemirror_mode": {
    "name": "ipython",
    "version": 3
   },
   "file_extension": ".py",
   "mimetype": "text/x-python",
   "name": "python",
   "nbconvert_exporter": "python",
   "pygments_lexer": "ipython3",
   "version": "3.10.18"
  }
 },
 "nbformat": 4,
 "nbformat_minor": 5
}
