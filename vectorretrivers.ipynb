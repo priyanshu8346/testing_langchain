{
 "cells": [
  {
   "cell_type": "code",
   "execution_count": 17,
   "id": "a452ed61",
   "metadata": {},
   "outputs": [],
   "source": [
    "from langchain_core.documents import Document\n",
    "\n",
    "documents = [\n",
    "    Document(\n",
    "        page_content=\"Food is vital to our survival and keeps our bodies in a functioning state. Food becomes a necessary component of our body’s functioning the moment we are born\",\n",
    "        metadata={\"source\": \"doc1\", \"author\": \"Alice\", \"date\": \"2023-01-01\"}\n",
    "    ),\n",
    "    Document(\n",
    "        page_content=\"A balanced diet improves our ability to fend off sickness, boosts our immunity, gives us energy throughout the day, and controls our mood. It further aids in meeting our body’s developmental benchmarks at various growth stages.\",\n",
    "        metadata={\"source\": \"doc2\", \"author\": \"Bob\", \"date\": \"2023-02-01\"}\n",
    "    ),\n",
    "    Document(\n",
    "        page_content=\"Furthermore, food plays a significant role in fostering global cultural experiences and connections with a diverse range of individuals.\",\n",
    "        metadata={\"source\": \"doc3\", \"author\": \"Charlie\", \"date\": \"2023-03-01\"}\n",
    "    ),\n",
    "    Document(\n",
    "        page_content=\"Cats are one of the most popular and cherished pets worldwide. Known for their playful nature, independence, and affectionate demeanour, cats have been human companions for centuries. \",\n",
    "        metadata={\"source\": \"doc4\", \"author\": \"Alice\", \"date\": \"2023-04-01\"}\n",
    "    ),\n",
    "    Document(\n",
    "        page_content=\"The cat is a domestic animal. Its scientific name is Felis catus. It is a small animal that belongs to the “Felidae” family.\",\n",
    "        metadata={\"source\": \"doc5\", \"author\": \"Bob\", \"date\": \"2023-05-01\"})\n",
    "]\n",
    "\n"
   ]
  },
  {
   "cell_type": "code",
   "execution_count": 10,
   "id": "f228f4d1",
   "metadata": {},
   "outputs": [],
   "source": [
    "import os\n",
    "from dotenv import load_dotenv\n",
    "from langchain_groq import ChatGroq\n",
    "load_dotenv()\n",
    "groq_api_key = os.getenv(\"GROQ_API_KEY\")\n",
    "os.environ[\"HUGGINGFACEHUB_API_TOKEN\"] = os.getenv(\"HUGGINGFACEHUB_API_TOKEN\")\n",
    "\n",
    "llm = ChatGroq(\n",
    "    model=\"Llama3-8b-8192\",\n",
    "    groq_api_key=groq_api_key)"
   ]
  },
  {
   "cell_type": "code",
   "execution_count": 12,
   "id": "88836086",
   "metadata": {},
   "outputs": [
    {
     "name": "stderr",
     "output_type": "stream",
     "text": [
      "/opt/miniconda3/envs/practice/lib/python3.10/site-packages/tqdm/auto.py:21: TqdmWarning: IProgress not found. Please update jupyter and ipywidgets. See https://ipywidgets.readthedocs.io/en/stable/user_install.html\n",
      "  from .autonotebook import tqdm as notebook_tqdm\n"
     ]
    }
   ],
   "source": [
    "from langchain_huggingface import HuggingFaceEmbeddings\n",
    "embeddings = HuggingFaceEmbeddings(\n",
    "    model_name=\"all-MiniLM-L6-v2\")"
   ]
  },
  {
   "cell_type": "code",
   "execution_count": 18,
   "id": "5aebefc1",
   "metadata": {},
   "outputs": [
    {
     "data": {
      "text/plain": [
       "<langchain_chroma.vectorstores.Chroma at 0x175a97250>"
      ]
     },
     "execution_count": 18,
     "metadata": {},
     "output_type": "execute_result"
    }
   ],
   "source": [
    "### vectorstores\n",
    "from langchain_chroma import Chroma\n",
    "vectorstore = Chroma.from_documents(\n",
    "    documents=documents,\n",
    "    embedding=embeddings)\n",
    "vectorstore"
   ]
  },
  {
   "cell_type": "code",
   "execution_count": 21,
   "id": "98d8d430",
   "metadata": {},
   "outputs": [
    {
     "data": {
      "text/plain": [
       "[Document(id='ab488b36-f01c-46c1-87bf-1d0de3a67a61', metadata={'date': '2023-05-01', 'author': 'Bob', 'source': 'doc5'}, page_content='The cat is a domestic animal. Its scientific name is Felis catus. It is a small animal that belongs to the “Felidae” family.'),\n",
       " Document(id='2eff14a0-0253-48c6-9f5f-387886d4bb11', metadata={'author': 'Alice', 'date': '2023-04-01', 'source': 'doc4'}, page_content='Cats are one of the most popular and cherished pets worldwide. Known for their playful nature, independence, and affectionate demeanour, cats have been human companions for centuries. '),\n",
       " Document(id='40e87538-9633-4ca4-aef3-bb0506b9ccd2', metadata={'date': '2023-04-01', 'author': 'Alice', 'source': 'doc4'}, page_content='This is the fourth document.'),\n",
       " Document(id='857c6243-e9f7-498a-8fd1-78ac8fce04c6', metadata={'author': 'Bob', 'source': 'doc5', 'date': '2023-05-01'}, page_content='This is the fifth document.')]"
      ]
     },
     "execution_count": 21,
     "metadata": {},
     "output_type": "execute_result"
    }
   ],
   "source": [
    "vectorstore.similarity_search(\"What is the dog\")"
   ]
  },
  {
   "cell_type": "code",
   "execution_count": 22,
   "id": "f3db49c6",
   "metadata": {},
   "outputs": [
    {
     "data": {
      "text/plain": [
       "[Document(id='ab488b36-f01c-46c1-87bf-1d0de3a67a61', metadata={'source': 'doc5', 'date': '2023-05-01', 'author': 'Bob'}, page_content='The cat is a domestic animal. Its scientific name is Felis catus. It is a small animal that belongs to the “Felidae” family.'),\n",
       " Document(id='2eff14a0-0253-48c6-9f5f-387886d4bb11', metadata={'date': '2023-04-01', 'source': 'doc4', 'author': 'Alice'}, page_content='Cats are one of the most popular and cherished pets worldwide. Known for their playful nature, independence, and affectionate demeanour, cats have been human companions for centuries. '),\n",
       " Document(id='40e87538-9633-4ca4-aef3-bb0506b9ccd2', metadata={'source': 'doc4', 'author': 'Alice', 'date': '2023-04-01'}, page_content='This is the fourth document.'),\n",
       " Document(id='857c6243-e9f7-498a-8fd1-78ac8fce04c6', metadata={'date': '2023-05-01', 'source': 'doc5', 'author': 'Bob'}, page_content='This is the fifth document.')]"
      ]
     },
     "execution_count": 22,
     "metadata": {},
     "output_type": "execute_result"
    }
   ],
   "source": [
    "### async\n",
    "await vectorstore.asimilarity_search(\"What is the dog\")"
   ]
  },
  {
   "cell_type": "code",
   "execution_count": 25,
   "id": "44240fe4",
   "metadata": {},
   "outputs": [
    {
     "data": {
      "text/plain": [
       "[(Document(id='ab488b36-f01c-46c1-87bf-1d0de3a67a61', metadata={'date': '2023-05-01', 'source': 'doc5', 'author': 'Bob'}, page_content='The cat is a domestic animal. Its scientific name is Felis catus. It is a small animal that belongs to the “Felidae” family.'),\n",
       "  0.6697719097137451),\n",
       " (Document(id='2eff14a0-0253-48c6-9f5f-387886d4bb11', metadata={'author': 'Alice', 'source': 'doc4', 'date': '2023-04-01'}, page_content='Cats are one of the most popular and cherished pets worldwide. Known for their playful nature, independence, and affectionate demeanour, cats have been human companions for centuries. '),\n",
       "  1.0357447862625122),\n",
       " (Document(id='09690d2c-98a0-42c2-ac0c-6331ef999330', metadata={'date': '2023-03-01', 'source': 'doc3', 'author': 'Charlie'}, page_content='Furthermore, food plays a significant role in fostering global cultural experiences and connections with a diverse range of individuals.'),\n",
       "  1.8387198448181152),\n",
       " (Document(id='420a1afc-e1b4-487d-a3be-85e8b759cdb4', metadata={'author': 'Alice', 'source': 'doc1', 'date': '2023-01-01'}, page_content='This is the first document.'),\n",
       "  1.93293297290802)]"
      ]
     },
     "execution_count": 25,
     "metadata": {},
     "output_type": "execute_result"
    }
   ],
   "source": [
    "vectorstore.similarity_search_with_score(\"What is the cat family called\")"
   ]
  },
  {
   "cell_type": "code",
   "execution_count": null,
   "id": "bd9eec4c",
   "metadata": {},
   "outputs": [],
   "source": [
    "# Retrievers\n"
   ]
  },
  {
   "cell_type": "code",
   "execution_count": null,
   "id": "49bf0e5e",
   "metadata": {},
   "outputs": [],
   "source": []
  },
  {
   "cell_type": "code",
   "execution_count": null,
   "id": "6f2fe1a4",
   "metadata": {},
   "outputs": [],
   "source": []
  }
 ],
 "metadata": {
  "kernelspec": {
   "display_name": "practice",
   "language": "python",
   "name": "python3"
  },
  "language_info": {
   "codemirror_mode": {
    "name": "ipython",
    "version": 3
   },
   "file_extension": ".py",
   "mimetype": "text/x-python",
   "name": "python",
   "nbconvert_exporter": "python",
   "pygments_lexer": "ipython3",
   "version": "3.10.18"
  }
 },
 "nbformat": 4,
 "nbformat_minor": 5
}
