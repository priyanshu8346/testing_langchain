{
 "cells": [
  {
   "cell_type": "code",
   "execution_count": 3,
   "id": "a452ed61",
   "metadata": {},
   "outputs": [],
   "source": [
    "from langchain_core.documents import Document\n",
    "\n",
    "documents = [\n",
    "    Document(\n",
    "        page_content=\"Food is vital to our survival and keeps our bodies in a functioning state. Food becomes a necessary component of our body’s functioning the moment we are born\",\n",
    "        metadata={\"source\": \"doc1\", \"author\": \"Alice\", \"date\": \"2023-01-01\"}\n",
    "    ),\n",
    "    Document(\n",
    "        page_content=\"A balanced diet improves our ability to fend off sickness, boosts our immunity, gives us energy throughout the day, and controls our mood. It further aids in meeting our body’s developmental benchmarks at various growth stages.\",\n",
    "        metadata={\"source\": \"doc2\", \"author\": \"Bob\", \"date\": \"2023-02-01\"}\n",
    "    ),\n",
    "    Document(\n",
    "        page_content=\"Furthermore, food plays a significant role in fostering global cultural experiences and connections with a diverse range of individuals.\",\n",
    "        metadata={\"source\": \"doc3\", \"author\": \"Charlie\", \"date\": \"2023-03-01\"}\n",
    "    ),\n",
    "    Document(\n",
    "        page_content=\"Cats are one of the most popular and cherished pets worldwide. Known for their playful nature, independence, and affectionate demeanour, cats have been human companions for centuries. \",\n",
    "        metadata={\"source\": \"doc4\", \"author\": \"Alice\", \"date\": \"2023-04-01\"}\n",
    "    ),\n",
    "    Document(\n",
    "        page_content=\"The cat is a domestic animal. Its scientific name is Felis catus. It is a small animal that belongs to the “Felidae” family.\",\n",
    "        metadata={\"source\": \"doc5\", \"author\": \"Bob\", \"date\": \"2023-05-01\"})\n",
    "]\n",
    "\n"
   ]
  },
  {
   "cell_type": "code",
   "execution_count": 4,
   "id": "f228f4d1",
   "metadata": {},
   "outputs": [],
   "source": [
    "import os\n",
    "from dotenv import load_dotenv\n",
    "from langchain_groq import ChatGroq\n",
    "load_dotenv()\n",
    "groq_api_key = os.getenv(\"GROQ_API_KEY\")\n",
    "os.environ[\"HUGGINGFACEHUB_API_TOKEN\"] = os.getenv(\"HUGGINGFACEHUB_API_TOKEN\")\n",
    "\n",
    "llm = ChatGroq(\n",
    "    model=\"Llama3-8b-8192\",\n",
    "    groq_api_key=groq_api_key)"
   ]
  },
  {
   "cell_type": "code",
   "execution_count": 5,
   "id": "88836086",
   "metadata": {},
   "outputs": [
    {
     "name": "stderr",
     "output_type": "stream",
     "text": [
      "/opt/miniconda3/envs/practice/lib/python3.10/site-packages/tqdm/auto.py:21: TqdmWarning: IProgress not found. Please update jupyter and ipywidgets. See https://ipywidgets.readthedocs.io/en/stable/user_install.html\n",
      "  from .autonotebook import tqdm as notebook_tqdm\n"
     ]
    }
   ],
   "source": [
    "from langchain_huggingface import HuggingFaceEmbeddings\n",
    "embeddings = HuggingFaceEmbeddings(\n",
    "    model_name=\"all-MiniLM-L6-v2\")"
   ]
  },
  {
   "cell_type": "code",
   "execution_count": 6,
   "id": "5aebefc1",
   "metadata": {},
   "outputs": [
    {
     "data": {
      "text/plain": [
       "<langchain_chroma.vectorstores.Chroma at 0x14bea9d20>"
      ]
     },
     "execution_count": 6,
     "metadata": {},
     "output_type": "execute_result"
    }
   ],
   "source": [
    "### vectorstores\n",
    "from langchain_chroma import Chroma\n",
    "vectorstore = Chroma.from_documents(\n",
    "    documents=documents,\n",
    "    embedding=embeddings)\n",
    "vectorstore"
   ]
  },
  {
   "cell_type": "code",
   "execution_count": 7,
   "id": "98d8d430",
   "metadata": {},
   "outputs": [
    {
     "data": {
      "text/plain": [
       "[Document(id='ad6ac9d9-a0bc-4d83-98dc-3fb9342c3f38', metadata={'date': '2023-05-01', 'source': 'doc5', 'author': 'Bob'}, page_content='The cat is a domestic animal. Its scientific name is Felis catus. It is a small animal that belongs to the “Felidae” family.'),\n",
       " Document(id='504e67b6-828f-4d0e-88b0-f03d1a8daa95', metadata={'source': 'doc4', 'date': '2023-04-01', 'author': 'Alice'}, page_content='Cats are one of the most popular and cherished pets worldwide. Known for their playful nature, independence, and affectionate demeanour, cats have been human companions for centuries. '),\n",
       " Document(id='bf38f0ce-a7ef-40de-a042-6291814a17d2', metadata={'date': '2023-03-01', 'source': 'doc3', 'author': 'Charlie'}, page_content='Furthermore, food plays a significant role in fostering global cultural experiences and connections with a diverse range of individuals.'),\n",
       " Document(id='4d82f67a-929a-45ec-9817-b65d61976b9b', metadata={'date': '2023-01-01', 'author': 'Alice', 'source': 'doc1'}, page_content='Food is vital to our survival and keeps our bodies in a functioning state. Food becomes a necessary component of our body’s functioning the moment we are born')]"
      ]
     },
     "execution_count": 7,
     "metadata": {},
     "output_type": "execute_result"
    }
   ],
   "source": [
    "vectorstore.similarity_search(\"What is the dog\")"
   ]
  },
  {
   "cell_type": "code",
   "execution_count": 8,
   "id": "f3db49c6",
   "metadata": {},
   "outputs": [
    {
     "data": {
      "text/plain": [
       "[Document(id='ad6ac9d9-a0bc-4d83-98dc-3fb9342c3f38', metadata={'date': '2023-05-01', 'author': 'Bob', 'source': 'doc5'}, page_content='The cat is a domestic animal. Its scientific name is Felis catus. It is a small animal that belongs to the “Felidae” family.'),\n",
       " Document(id='504e67b6-828f-4d0e-88b0-f03d1a8daa95', metadata={'source': 'doc4', 'author': 'Alice', 'date': '2023-04-01'}, page_content='Cats are one of the most popular and cherished pets worldwide. Known for their playful nature, independence, and affectionate demeanour, cats have been human companions for centuries. '),\n",
       " Document(id='bf38f0ce-a7ef-40de-a042-6291814a17d2', metadata={'author': 'Charlie', 'date': '2023-03-01', 'source': 'doc3'}, page_content='Furthermore, food plays a significant role in fostering global cultural experiences and connections with a diverse range of individuals.'),\n",
       " Document(id='4d82f67a-929a-45ec-9817-b65d61976b9b', metadata={'date': '2023-01-01', 'source': 'doc1', 'author': 'Alice'}, page_content='Food is vital to our survival and keeps our bodies in a functioning state. Food becomes a necessary component of our body’s functioning the moment we are born')]"
      ]
     },
     "execution_count": 8,
     "metadata": {},
     "output_type": "execute_result"
    }
   ],
   "source": [
    "### async\n",
    "await vectorstore.asimilarity_search(\"What is the dog\")"
   ]
  },
  {
   "cell_type": "code",
   "execution_count": 9,
   "id": "44240fe4",
   "metadata": {},
   "outputs": [
    {
     "data": {
      "text/plain": [
       "[(Document(id='ad6ac9d9-a0bc-4d83-98dc-3fb9342c3f38', metadata={'source': 'doc5', 'date': '2023-05-01', 'author': 'Bob'}, page_content='The cat is a domestic animal. Its scientific name is Felis catus. It is a small animal that belongs to the “Felidae” family.'),\n",
       "  0.6697719097137451),\n",
       " (Document(id='504e67b6-828f-4d0e-88b0-f03d1a8daa95', metadata={'source': 'doc4', 'date': '2023-04-01', 'author': 'Alice'}, page_content='Cats are one of the most popular and cherished pets worldwide. Known for their playful nature, independence, and affectionate demeanour, cats have been human companions for centuries. '),\n",
       "  1.0357447862625122),\n",
       " (Document(id='bf38f0ce-a7ef-40de-a042-6291814a17d2', metadata={'author': 'Charlie', 'source': 'doc3', 'date': '2023-03-01'}, page_content='Furthermore, food plays a significant role in fostering global cultural experiences and connections with a diverse range of individuals.'),\n",
       "  1.8387198448181152),\n",
       " (Document(id='baa13407-b3c8-4321-8ecb-29b8d2f71bd1', metadata={'author': 'Bob', 'source': 'doc2', 'date': '2023-02-01'}, page_content='A balanced diet improves our ability to fend off sickness, boosts our immunity, gives us energy throughout the day, and controls our mood. It further aids in meeting our body’s developmental benchmarks at various growth stages.'),\n",
       "  2.0170347690582275)]"
      ]
     },
     "execution_count": 9,
     "metadata": {},
     "output_type": "execute_result"
    }
   ],
   "source": [
    "vectorstore.similarity_search_with_score(\"What is the cat family called\")"
   ]
  },
  {
   "cell_type": "code",
   "execution_count": 11,
   "id": "bd9eec4c",
   "metadata": {},
   "outputs": [
    {
     "data": {
      "text/plain": [
       "[[Document(id='ad6ac9d9-a0bc-4d83-98dc-3fb9342c3f38', metadata={'author': 'Bob', 'source': 'doc5', 'date': '2023-05-01'}, page_content='The cat is a domestic animal. Its scientific name is Felis catus. It is a small animal that belongs to the “Felidae” family.')],\n",
       " [Document(id='ad6ac9d9-a0bc-4d83-98dc-3fb9342c3f38', metadata={'date': '2023-05-01', 'source': 'doc5', 'author': 'Bob'}, page_content='The cat is a domestic animal. Its scientific name is Felis catus. It is a small animal that belongs to the “Felidae” family.')],\n",
       " [Document(id='4d82f67a-929a-45ec-9817-b65d61976b9b', metadata={'source': 'doc1', 'date': '2023-01-01', 'author': 'Alice'}, page_content='Food is vital to our survival and keeps our bodies in a functioning state. Food becomes a necessary component of our body’s functioning the moment we are born')]]"
      ]
     },
     "execution_count": 11,
     "metadata": {},
     "output_type": "execute_result"
    }
   ],
   "source": [
    "# Retrievers\n",
    "from typing import List\n",
    "from langchain_core.documents import Document\n",
    "from langchain_core.runnables import RunnableLambda\n",
    "\n",
    "retriever = RunnableLambda(vectorstore.similarity_search).bind(k = 1)\n",
    "retriever.batch([\"cat\", \"dog\", \"food\"])\n"
   ]
  },
  {
   "cell_type": "code",
   "execution_count": 13,
   "id": "49bf0e5e",
   "metadata": {},
   "outputs": [
    {
     "data": {
      "text/plain": [
       "[[Document(id='ad6ac9d9-a0bc-4d83-98dc-3fb9342c3f38', metadata={'author': 'Bob', 'source': 'doc5', 'date': '2023-05-01'}, page_content='The cat is a domestic animal. Its scientific name is Felis catus. It is a small animal that belongs to the “Felidae” family.')],\n",
       " [Document(id='ad6ac9d9-a0bc-4d83-98dc-3fb9342c3f38', metadata={'source': 'doc5', 'date': '2023-05-01', 'author': 'Bob'}, page_content='The cat is a domestic animal. Its scientific name is Felis catus. It is a small animal that belongs to the “Felidae” family.')],\n",
       " [Document(id='4d82f67a-929a-45ec-9817-b65d61976b9b', metadata={'source': 'doc1', 'author': 'Alice', 'date': '2023-01-01'}, page_content='Food is vital to our survival and keeps our bodies in a functioning state. Food becomes a necessary component of our body’s functioning the moment we are born')]]"
      ]
     },
     "execution_count": 13,
     "metadata": {},
     "output_type": "execute_result"
    }
   ],
   "source": [
    "retriever = vectorstore.as_retriever(\n",
    "    search_type = \"similarity\",\n",
    "    search_kwargs = {\"k\":1}\n",
    ")\n",
    "retriever.batch([\"cat\", \"dog\", \"food\"])"
   ]
  },
  {
   "cell_type": "code",
   "execution_count": 15,
   "id": "6f2fe1a4",
   "metadata": {},
   "outputs": [],
   "source": [
    "from langchain_core.runnables import RunnablePassthrough\n",
    "from langchain_core.prompts import ChatPromptTemplate\n",
    "\n",
    "message = \"\"\" Answer the question based on the context provided. If you don't know the answer, just say that you don't know, don't try to make up an answer.\n",
    "question: {question}\n",
    "context: {context} \"\"\"\n",
    "\n",
    "prompt = ChatPromptTemplate.from_messages([\n",
    "    (\"human\" , message)\n",
    "])\n",
    " \n",
    "rag_chain = {\"context\": retriever, \"question\": RunnablePassthrough()} | prompt | llm"
   ]
  },
  {
   "cell_type": "code",
   "execution_count": 17,
   "id": "f5196a44",
   "metadata": {},
   "outputs": [
    {
     "data": {
      "text/plain": [
       "[AIMessage(content='According to the provided context, a cat is a domestic animal.', additional_kwargs={}, response_metadata={'token_usage': {'completion_tokens': 14, 'prompt_tokens': 144, 'total_tokens': 158, 'completion_time': 0.018376112, 'prompt_time': 0.017207289, 'queue_time': 0.266799642, 'total_time': 0.035583401}, 'model_name': 'Llama3-8b-8192', 'system_fingerprint': 'fp_0fb809dba3', 'service_tier': 'on_demand', 'finish_reason': 'stop', 'logprobs': None}, id='run--a1eb32bb-633e-44a1-abd1-e380e673e040-0', usage_metadata={'input_tokens': 144, 'output_tokens': 14, 'total_tokens': 158}),\n",
       " AIMessage(content=\"I don't know. The provided context is about cats, not dogs.\", additional_kwargs={}, response_metadata={'token_usage': {'completion_tokens': 16, 'prompt_tokens': 149, 'total_tokens': 165, 'completion_time': 0.020381806, 'prompt_time': 0.069927206, 'queue_time': 0.422419665, 'total_time': 0.090309012}, 'model_name': 'Llama3-8b-8192', 'system_fingerprint': 'fp_bc17983608', 'service_tier': 'on_demand', 'finish_reason': 'stop', 'logprobs': None}, id='run--6a4f02c5-451f-48c5-8164-c122fc038aba-0', usage_metadata={'input_tokens': 149, 'output_tokens': 16, 'total_tokens': 165}),\n",
       " AIMessage(content=\"The text does not provide information about how food is, it only provides a general statement about the importance of food for our survival and bodily functioning. Therefore, I don't know.\", additional_kwargs={}, response_metadata={'token_usage': {'completion_tokens': 37, 'prompt_tokens': 141, 'total_tokens': 178, 'completion_time': 0.046644226, 'prompt_time': 0.045622487, 'queue_time': 0.378189594, 'total_time': 0.092266713}, 'model_name': 'Llama3-8b-8192', 'system_fingerprint': 'fp_bc17983608', 'service_tier': 'on_demand', 'finish_reason': 'stop', 'logprobs': None}, id='run--aaa863ef-4785-408b-93fa-d6abbd05a866-0', usage_metadata={'input_tokens': 141, 'output_tokens': 37, 'total_tokens': 178})]"
      ]
     },
     "execution_count": 17,
     "metadata": {},
     "output_type": "execute_result"
    }
   ],
   "source": [
    "rag_chain.batch([\" what is cat\", \"what is dog\", \"How is the food\"])"
   ]
  }
 ],
 "metadata": {
  "kernelspec": {
   "display_name": "practice",
   "language": "python",
   "name": "python3"
  },
  "language_info": {
   "codemirror_mode": {
    "name": "ipython",
    "version": 3
   },
   "file_extension": ".py",
   "mimetype": "text/x-python",
   "name": "python",
   "nbconvert_exporter": "python",
   "pygments_lexer": "ipython3",
   "version": "3.10.18"
  }
 },
 "nbformat": 4,
 "nbformat_minor": 5
}
